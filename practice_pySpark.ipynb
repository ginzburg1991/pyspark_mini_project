{
  "nbformat": 4,
  "nbformat_minor": 0,
  "metadata": {
    "colab": {
      "provenance": [],
      "toc_visible": true,
      "authorship_tag": "ABX9TyPtsnn656twSQAQ4vRapC2g",
      "include_colab_link": true
    },
    "kernelspec": {
      "name": "python3",
      "display_name": "Python 3"
    },
    "language_info": {
      "name": "python"
    }
  },
  "cells": [
    {
      "cell_type": "markdown",
      "metadata": {
        "id": "view-in-github",
        "colab_type": "text"
      },
      "source": [
        "<a href=\"https://colab.research.google.com/github/ginzburg1991/pyspark_mini_project/blob/main/practice_pySpark.ipynb\" target=\"_parent\"><img src=\"https://colab.research.google.com/assets/colab-badge.svg\" alt=\"Open In Colab\"/></a>"
      ]
    },
    {
      "cell_type": "code",
      "execution_count": null,
      "metadata": {
        "colab": {
          "base_uri": "https://localhost:8080/"
        },
        "id": "WLyvzlEzlgg-",
        "outputId": "98b323e8-a88d-4042-d3e9-74f319df60e4"
      },
      "outputs": [
        {
          "output_type": "stream",
          "name": "stdout",
          "text": [
            "Collecting pyspark\n",
            "  Downloading pyspark-3.5.0.tar.gz (316.9 MB)\n",
            "\u001b[2K     \u001b[90m━━━━━━━━━━━━━━━━━━━━━━━━━━━━━━━━━━━━━━━━\u001b[0m \u001b[32m316.9/316.9 MB\u001b[0m \u001b[31m3.3 MB/s\u001b[0m eta \u001b[36m0:00:00\u001b[0m\n",
            "\u001b[?25h  Preparing metadata (setup.py) ... \u001b[?25l\u001b[?25hdone\n",
            "Requirement already satisfied: py4j==0.10.9.7 in /usr/local/lib/python3.10/dist-packages (from pyspark) (0.10.9.7)\n",
            "Building wheels for collected packages: pyspark\n",
            "  Building wheel for pyspark (setup.py) ... \u001b[?25l\u001b[?25hdone\n",
            "  Created wheel for pyspark: filename=pyspark-3.5.0-py2.py3-none-any.whl size=317425345 sha256=c96f2b3309bce0bcff9c1b39093194a133a0a6d2335a2d79be054e1c9b180f1c\n",
            "  Stored in directory: /root/.cache/pip/wheels/41/4e/10/c2cf2467f71c678cfc8a6b9ac9241e5e44a01940da8fbb17fc\n",
            "Successfully built pyspark\n",
            "Installing collected packages: pyspark\n",
            "Successfully installed pyspark-3.5.0\n"
          ]
        }
      ],
      "source": [
        "!pip install pyspark"
      ]
    },
    {
      "cell_type": "code",
      "source": [
        "import pyspark"
      ],
      "metadata": {
        "id": "8Mp0sO34mOIj"
      },
      "execution_count": null,
      "outputs": []
    },
    {
      "cell_type": "code",
      "source": [
        "import pandas as pd"
      ],
      "metadata": {
        "id": "GcDKjgurmdSd"
      },
      "execution_count": null,
      "outputs": []
    },
    {
      "cell_type": "code",
      "source": [
        "pd.read_csv(\"/content/pySpark-test - Sheet1.csv\")"
      ],
      "metadata": {
        "colab": {
          "base_uri": "https://localhost:8080/",
          "height": 322
        },
        "id": "x81eLL0nqAO5",
        "outputId": "83eb4472-174d-4505-ec49-f23add3b1785"
      },
      "execution_count": null,
      "outputs": [
        {
          "output_type": "error",
          "ename": "FileNotFoundError",
          "evalue": "[Errno 2] No such file or directory: '/content/pySpark-test - Sheet1.csv'",
          "traceback": [
            "\u001b[0;31m---------------------------------------------------------------------------\u001b[0m",
            "\u001b[0;31mFileNotFoundError\u001b[0m                         Traceback (most recent call last)",
            "\u001b[0;32m<ipython-input-5-3ff5992bae73>\u001b[0m in \u001b[0;36m<cell line: 1>\u001b[0;34m()\u001b[0m\n\u001b[0;32m----> 1\u001b[0;31m \u001b[0mpd\u001b[0m\u001b[0;34m.\u001b[0m\u001b[0mread_csv\u001b[0m\u001b[0;34m(\u001b[0m\u001b[0;34m\"/content/pySpark-test - Sheet1.csv\"\u001b[0m\u001b[0;34m)\u001b[0m\u001b[0;34m\u001b[0m\u001b[0;34m\u001b[0m\u001b[0m\n\u001b[0m",
            "\u001b[0;32m/usr/local/lib/python3.10/dist-packages/pandas/util/_decorators.py\u001b[0m in \u001b[0;36mwrapper\u001b[0;34m(*args, **kwargs)\u001b[0m\n\u001b[1;32m    209\u001b[0m                 \u001b[0;32melse\u001b[0m\u001b[0;34m:\u001b[0m\u001b[0;34m\u001b[0m\u001b[0;34m\u001b[0m\u001b[0m\n\u001b[1;32m    210\u001b[0m                     \u001b[0mkwargs\u001b[0m\u001b[0;34m[\u001b[0m\u001b[0mnew_arg_name\u001b[0m\u001b[0;34m]\u001b[0m \u001b[0;34m=\u001b[0m \u001b[0mnew_arg_value\u001b[0m\u001b[0;34m\u001b[0m\u001b[0;34m\u001b[0m\u001b[0m\n\u001b[0;32m--> 211\u001b[0;31m             \u001b[0;32mreturn\u001b[0m \u001b[0mfunc\u001b[0m\u001b[0;34m(\u001b[0m\u001b[0;34m*\u001b[0m\u001b[0margs\u001b[0m\u001b[0;34m,\u001b[0m \u001b[0;34m**\u001b[0m\u001b[0mkwargs\u001b[0m\u001b[0;34m)\u001b[0m\u001b[0;34m\u001b[0m\u001b[0;34m\u001b[0m\u001b[0m\n\u001b[0m\u001b[1;32m    212\u001b[0m \u001b[0;34m\u001b[0m\u001b[0m\n\u001b[1;32m    213\u001b[0m         \u001b[0;32mreturn\u001b[0m \u001b[0mcast\u001b[0m\u001b[0;34m(\u001b[0m\u001b[0mF\u001b[0m\u001b[0;34m,\u001b[0m \u001b[0mwrapper\u001b[0m\u001b[0;34m)\u001b[0m\u001b[0;34m\u001b[0m\u001b[0;34m\u001b[0m\u001b[0m\n",
            "\u001b[0;32m/usr/local/lib/python3.10/dist-packages/pandas/util/_decorators.py\u001b[0m in \u001b[0;36mwrapper\u001b[0;34m(*args, **kwargs)\u001b[0m\n\u001b[1;32m    329\u001b[0m                     \u001b[0mstacklevel\u001b[0m\u001b[0;34m=\u001b[0m\u001b[0mfind_stack_level\u001b[0m\u001b[0;34m(\u001b[0m\u001b[0;34m)\u001b[0m\u001b[0;34m,\u001b[0m\u001b[0;34m\u001b[0m\u001b[0;34m\u001b[0m\u001b[0m\n\u001b[1;32m    330\u001b[0m                 )\n\u001b[0;32m--> 331\u001b[0;31m             \u001b[0;32mreturn\u001b[0m \u001b[0mfunc\u001b[0m\u001b[0;34m(\u001b[0m\u001b[0;34m*\u001b[0m\u001b[0margs\u001b[0m\u001b[0;34m,\u001b[0m \u001b[0;34m**\u001b[0m\u001b[0mkwargs\u001b[0m\u001b[0;34m)\u001b[0m\u001b[0;34m\u001b[0m\u001b[0;34m\u001b[0m\u001b[0m\n\u001b[0m\u001b[1;32m    332\u001b[0m \u001b[0;34m\u001b[0m\u001b[0m\n\u001b[1;32m    333\u001b[0m         \u001b[0;31m# error: \"Callable[[VarArg(Any), KwArg(Any)], Any]\" has no\u001b[0m\u001b[0;34m\u001b[0m\u001b[0;34m\u001b[0m\u001b[0m\n",
            "\u001b[0;32m/usr/local/lib/python3.10/dist-packages/pandas/io/parsers/readers.py\u001b[0m in \u001b[0;36mread_csv\u001b[0;34m(filepath_or_buffer, sep, delimiter, header, names, index_col, usecols, squeeze, prefix, mangle_dupe_cols, dtype, engine, converters, true_values, false_values, skipinitialspace, skiprows, skipfooter, nrows, na_values, keep_default_na, na_filter, verbose, skip_blank_lines, parse_dates, infer_datetime_format, keep_date_col, date_parser, dayfirst, cache_dates, iterator, chunksize, compression, thousands, decimal, lineterminator, quotechar, quoting, doublequote, escapechar, comment, encoding, encoding_errors, dialect, error_bad_lines, warn_bad_lines, on_bad_lines, delim_whitespace, low_memory, memory_map, float_precision, storage_options)\u001b[0m\n\u001b[1;32m    948\u001b[0m     \u001b[0mkwds\u001b[0m\u001b[0;34m.\u001b[0m\u001b[0mupdate\u001b[0m\u001b[0;34m(\u001b[0m\u001b[0mkwds_defaults\u001b[0m\u001b[0;34m)\u001b[0m\u001b[0;34m\u001b[0m\u001b[0;34m\u001b[0m\u001b[0m\n\u001b[1;32m    949\u001b[0m \u001b[0;34m\u001b[0m\u001b[0m\n\u001b[0;32m--> 950\u001b[0;31m     \u001b[0;32mreturn\u001b[0m \u001b[0m_read\u001b[0m\u001b[0;34m(\u001b[0m\u001b[0mfilepath_or_buffer\u001b[0m\u001b[0;34m,\u001b[0m \u001b[0mkwds\u001b[0m\u001b[0;34m)\u001b[0m\u001b[0;34m\u001b[0m\u001b[0;34m\u001b[0m\u001b[0m\n\u001b[0m\u001b[1;32m    951\u001b[0m \u001b[0;34m\u001b[0m\u001b[0m\n\u001b[1;32m    952\u001b[0m \u001b[0;34m\u001b[0m\u001b[0m\n",
            "\u001b[0;32m/usr/local/lib/python3.10/dist-packages/pandas/io/parsers/readers.py\u001b[0m in \u001b[0;36m_read\u001b[0;34m(filepath_or_buffer, kwds)\u001b[0m\n\u001b[1;32m    603\u001b[0m \u001b[0;34m\u001b[0m\u001b[0m\n\u001b[1;32m    604\u001b[0m     \u001b[0;31m# Create the parser.\u001b[0m\u001b[0;34m\u001b[0m\u001b[0;34m\u001b[0m\u001b[0m\n\u001b[0;32m--> 605\u001b[0;31m     \u001b[0mparser\u001b[0m \u001b[0;34m=\u001b[0m \u001b[0mTextFileReader\u001b[0m\u001b[0;34m(\u001b[0m\u001b[0mfilepath_or_buffer\u001b[0m\u001b[0;34m,\u001b[0m \u001b[0;34m**\u001b[0m\u001b[0mkwds\u001b[0m\u001b[0;34m)\u001b[0m\u001b[0;34m\u001b[0m\u001b[0;34m\u001b[0m\u001b[0m\n\u001b[0m\u001b[1;32m    606\u001b[0m \u001b[0;34m\u001b[0m\u001b[0m\n\u001b[1;32m    607\u001b[0m     \u001b[0;32mif\u001b[0m \u001b[0mchunksize\u001b[0m \u001b[0;32mor\u001b[0m \u001b[0miterator\u001b[0m\u001b[0;34m:\u001b[0m\u001b[0;34m\u001b[0m\u001b[0;34m\u001b[0m\u001b[0m\n",
            "\u001b[0;32m/usr/local/lib/python3.10/dist-packages/pandas/io/parsers/readers.py\u001b[0m in \u001b[0;36m__init__\u001b[0;34m(self, f, engine, **kwds)\u001b[0m\n\u001b[1;32m   1440\u001b[0m \u001b[0;34m\u001b[0m\u001b[0m\n\u001b[1;32m   1441\u001b[0m         \u001b[0mself\u001b[0m\u001b[0;34m.\u001b[0m\u001b[0mhandles\u001b[0m\u001b[0;34m:\u001b[0m \u001b[0mIOHandles\u001b[0m \u001b[0;34m|\u001b[0m \u001b[0;32mNone\u001b[0m \u001b[0;34m=\u001b[0m \u001b[0;32mNone\u001b[0m\u001b[0;34m\u001b[0m\u001b[0;34m\u001b[0m\u001b[0m\n\u001b[0;32m-> 1442\u001b[0;31m         \u001b[0mself\u001b[0m\u001b[0;34m.\u001b[0m\u001b[0m_engine\u001b[0m \u001b[0;34m=\u001b[0m \u001b[0mself\u001b[0m\u001b[0;34m.\u001b[0m\u001b[0m_make_engine\u001b[0m\u001b[0;34m(\u001b[0m\u001b[0mf\u001b[0m\u001b[0;34m,\u001b[0m \u001b[0mself\u001b[0m\u001b[0;34m.\u001b[0m\u001b[0mengine\u001b[0m\u001b[0;34m)\u001b[0m\u001b[0;34m\u001b[0m\u001b[0;34m\u001b[0m\u001b[0m\n\u001b[0m\u001b[1;32m   1443\u001b[0m \u001b[0;34m\u001b[0m\u001b[0m\n\u001b[1;32m   1444\u001b[0m     \u001b[0;32mdef\u001b[0m \u001b[0mclose\u001b[0m\u001b[0;34m(\u001b[0m\u001b[0mself\u001b[0m\u001b[0;34m)\u001b[0m \u001b[0;34m->\u001b[0m \u001b[0;32mNone\u001b[0m\u001b[0;34m:\u001b[0m\u001b[0;34m\u001b[0m\u001b[0;34m\u001b[0m\u001b[0m\n",
            "\u001b[0;32m/usr/local/lib/python3.10/dist-packages/pandas/io/parsers/readers.py\u001b[0m in \u001b[0;36m_make_engine\u001b[0;34m(self, f, engine)\u001b[0m\n\u001b[1;32m   1733\u001b[0m                 \u001b[0;32mif\u001b[0m \u001b[0;34m\"b\"\u001b[0m \u001b[0;32mnot\u001b[0m \u001b[0;32min\u001b[0m \u001b[0mmode\u001b[0m\u001b[0;34m:\u001b[0m\u001b[0;34m\u001b[0m\u001b[0;34m\u001b[0m\u001b[0m\n\u001b[1;32m   1734\u001b[0m                     \u001b[0mmode\u001b[0m \u001b[0;34m+=\u001b[0m \u001b[0;34m\"b\"\u001b[0m\u001b[0;34m\u001b[0m\u001b[0;34m\u001b[0m\u001b[0m\n\u001b[0;32m-> 1735\u001b[0;31m             self.handles = get_handle(\n\u001b[0m\u001b[1;32m   1736\u001b[0m                 \u001b[0mf\u001b[0m\u001b[0;34m,\u001b[0m\u001b[0;34m\u001b[0m\u001b[0;34m\u001b[0m\u001b[0m\n\u001b[1;32m   1737\u001b[0m                 \u001b[0mmode\u001b[0m\u001b[0;34m,\u001b[0m\u001b[0;34m\u001b[0m\u001b[0;34m\u001b[0m\u001b[0m\n",
            "\u001b[0;32m/usr/local/lib/python3.10/dist-packages/pandas/io/common.py\u001b[0m in \u001b[0;36mget_handle\u001b[0;34m(path_or_buf, mode, encoding, compression, memory_map, is_text, errors, storage_options)\u001b[0m\n\u001b[1;32m    854\u001b[0m         \u001b[0;32mif\u001b[0m \u001b[0mioargs\u001b[0m\u001b[0;34m.\u001b[0m\u001b[0mencoding\u001b[0m \u001b[0;32mand\u001b[0m \u001b[0;34m\"b\"\u001b[0m \u001b[0;32mnot\u001b[0m \u001b[0;32min\u001b[0m \u001b[0mioargs\u001b[0m\u001b[0;34m.\u001b[0m\u001b[0mmode\u001b[0m\u001b[0;34m:\u001b[0m\u001b[0;34m\u001b[0m\u001b[0;34m\u001b[0m\u001b[0m\n\u001b[1;32m    855\u001b[0m             \u001b[0;31m# Encoding\u001b[0m\u001b[0;34m\u001b[0m\u001b[0;34m\u001b[0m\u001b[0m\n\u001b[0;32m--> 856\u001b[0;31m             handle = open(\n\u001b[0m\u001b[1;32m    857\u001b[0m                 \u001b[0mhandle\u001b[0m\u001b[0;34m,\u001b[0m\u001b[0;34m\u001b[0m\u001b[0;34m\u001b[0m\u001b[0m\n\u001b[1;32m    858\u001b[0m                 \u001b[0mioargs\u001b[0m\u001b[0;34m.\u001b[0m\u001b[0mmode\u001b[0m\u001b[0;34m,\u001b[0m\u001b[0;34m\u001b[0m\u001b[0;34m\u001b[0m\u001b[0m\n",
            "\u001b[0;31mFileNotFoundError\u001b[0m: [Errno 2] No such file or directory: '/content/pySpark-test - Sheet1.csv'"
          ]
        }
      ]
    },
    {
      "cell_type": "code",
      "source": [
        "type(pd.read_csv('/content/pySpark-test - Sheet1.csv'))"
      ],
      "metadata": {
        "colab": {
          "base_uri": "https://localhost:8080/"
        },
        "id": "dGC1AJvxr9fq",
        "outputId": "1bd839a3-fef9-4ffc-a8d4-3e38a008a3c8"
      },
      "execution_count": null,
      "outputs": [
        {
          "output_type": "execute_result",
          "data": {
            "text/plain": [
              "pandas.core.frame.DataFrame"
            ]
          },
          "metadata": {},
          "execution_count": 25
        }
      ]
    },
    {
      "cell_type": "code",
      "source": [
        "from pyspark.sql import SparkSession"
      ],
      "metadata": {
        "id": "2cyVq9nZqfMO"
      },
      "execution_count": null,
      "outputs": []
    },
    {
      "cell_type": "code",
      "source": [
        "spark=SparkSession.builder.appName(\"Practise\").getOrCreate()"
      ],
      "metadata": {
        "id": "3dkOw7_TqkFY"
      },
      "execution_count": null,
      "outputs": []
    },
    {
      "cell_type": "code",
      "source": [
        "spark"
      ],
      "metadata": {
        "colab": {
          "base_uri": "https://localhost:8080/",
          "height": 219
        },
        "id": "Wf4LzTWKqyc6",
        "outputId": "43537330-0705-4332-b6c1-16589a0a52ef"
      },
      "execution_count": null,
      "outputs": [
        {
          "output_type": "execute_result",
          "data": {
            "text/plain": [
              "<pyspark.sql.session.SparkSession at 0x7b03bff97ee0>"
            ],
            "text/html": [
              "\n",
              "            <div>\n",
              "                <p><b>SparkSession - in-memory</b></p>\n",
              "                \n",
              "        <div>\n",
              "            <p><b>SparkContext</b></p>\n",
              "\n",
              "            <p><a href=\"http://2561c1a3ed27:4040\">Spark UI</a></p>\n",
              "\n",
              "            <dl>\n",
              "              <dt>Version</dt>\n",
              "                <dd><code>v3.5.0</code></dd>\n",
              "              <dt>Master</dt>\n",
              "                <dd><code>local[*]</code></dd>\n",
              "              <dt>AppName</dt>\n",
              "                <dd><code>Practise</code></dd>\n",
              "            </dl>\n",
              "        </div>\n",
              "        \n",
              "            </div>\n",
              "        "
            ]
          },
          "metadata": {},
          "execution_count": 10
        }
      ]
    },
    {
      "cell_type": "code",
      "source": [
        "df_pyspark = spark.read.csv('/content/pySpark-test - Sheet1.csv')"
      ],
      "metadata": {
        "id": "i9RGK2Ikq2ko",
        "colab": {
          "base_uri": "https://localhost:8080/",
          "height": 141
        },
        "outputId": "a5845f9a-30d6-4d3d-fedb-62ac0534531c"
      },
      "execution_count": null,
      "outputs": [
        {
          "output_type": "error",
          "ename": "SyntaxError",
          "evalue": "invalid syntax (<ipython-input-11-0e4f044dd487>, line 1)",
          "traceback": [
            "\u001b[0;36m  File \u001b[0;32m\"<ipython-input-11-0e4f044dd487>\"\u001b[0;36m, line \u001b[0;32m1\u001b[0m\n\u001b[0;31m    df_pyspark =\u001b[0m\n\u001b[0m                 ^\u001b[0m\n\u001b[0;31mSyntaxError\u001b[0m\u001b[0;31m:\u001b[0m invalid syntax\n"
          ]
        }
      ]
    },
    {
      "cell_type": "code",
      "source": [
        "df_pyspark"
      ],
      "metadata": {
        "colab": {
          "base_uri": "https://localhost:8080/"
        },
        "id": "qcH0WdgUrQMs",
        "outputId": "6b2e881b-5cd5-4d6b-eb8d-20f9d2e56ef5"
      },
      "execution_count": null,
      "outputs": [
        {
          "output_type": "execute_result",
          "data": {
            "text/plain": [
              "DataFrame[_c0: string, _c1: string]"
            ]
          },
          "metadata": {},
          "execution_count": 43
        }
      ]
    },
    {
      "cell_type": "code",
      "source": [
        "df_pyspark.show()"
      ],
      "metadata": {
        "colab": {
          "base_uri": "https://localhost:8080/"
        },
        "id": "ePgBXHefrV-A",
        "outputId": "0fb1ff4c-5cc4-4397-9c50-0075bf047f04"
      },
      "execution_count": null,
      "outputs": [
        {
          "output_type": "stream",
          "name": "stdout",
          "text": [
            "+-------+---+\n",
            "|    _c0|_c1|\n",
            "+-------+---+\n",
            "|   Name|Age|\n",
            "|Michael| 31|\n",
            "|   Alex| 30|\n",
            "|    Ben| 29|\n",
            "+-------+---+\n",
            "\n"
          ]
        }
      ]
    },
    {
      "cell_type": "code",
      "source": [
        "df_pyspark = spark.read.option('header', 'true').csv('/content/pySpark-test - Sheet1.csv')"
      ],
      "metadata": {
        "id": "MyxPxOj1rdPr"
      },
      "execution_count": null,
      "outputs": []
    },
    {
      "cell_type": "code",
      "source": [
        "spark.read.option('header', 'true').csv('/content/pySpark-test - Sheet1.csv').show()"
      ],
      "metadata": {
        "colab": {
          "base_uri": "https://localhost:8080/"
        },
        "id": "-4sTOCEprtd6",
        "outputId": "f0efd057-0599-4ad2-c3a2-4aef7a5d3fb2"
      },
      "execution_count": null,
      "outputs": [
        {
          "output_type": "stream",
          "name": "stdout",
          "text": [
            "+-------+---+\n",
            "|   Name|Age|\n",
            "+-------+---+\n",
            "|Michael| 31|\n",
            "|   Alex| 30|\n",
            "|    Ben| 29|\n",
            "+-------+---+\n",
            "\n"
          ]
        }
      ]
    },
    {
      "cell_type": "code",
      "source": [
        "type(df_pyspark)"
      ],
      "metadata": {
        "colab": {
          "base_uri": "https://localhost:8080/"
        },
        "id": "oDzPl5cNrxDe",
        "outputId": "22e2c6c8-5cb7-465f-e268-5e7ec6c3a411"
      },
      "execution_count": null,
      "outputs": [
        {
          "output_type": "execute_result",
          "data": {
            "text/plain": [
              "pyspark.sql.dataframe.DataFrame"
            ]
          },
          "metadata": {},
          "execution_count": 51
        }
      ]
    },
    {
      "cell_type": "code",
      "source": [
        "df_pyspark.head(3)"
      ],
      "metadata": {
        "colab": {
          "base_uri": "https://localhost:8080/"
        },
        "id": "2YzlELYCr1Os",
        "outputId": "c4071fd6-f550-4c73-abc4-ba234eb89940"
      },
      "execution_count": null,
      "outputs": [
        {
          "output_type": "execute_result",
          "data": {
            "text/plain": [
              "[Row(Name='Michael', Age='31'),\n",
              " Row(Name='Alex', Age='30'),\n",
              " Row(Name='Ben', Age='29')]"
            ]
          },
          "metadata": {},
          "execution_count": 52
        }
      ]
    },
    {
      "cell_type": "code",
      "source": [
        "df_pyspark.printSchema()"
      ],
      "metadata": {
        "colab": {
          "base_uri": "https://localhost:8080/"
        },
        "id": "pqsSui52sP7P",
        "outputId": "3927aa3a-0fcc-42f4-8708-de017a969b92"
      },
      "execution_count": null,
      "outputs": [
        {
          "output_type": "stream",
          "name": "stdout",
          "text": [
            "root\n",
            " |-- Name: string (nullable = true)\n",
            " |-- Age: string (nullable = true)\n",
            "\n"
          ]
        }
      ]
    },
    {
      "cell_type": "markdown",
      "source": [
        "**Part 2**"
      ],
      "metadata": {
        "id": "oD0ZtZ-rvgBS"
      }
    },
    {
      "cell_type": "code",
      "source": [
        "df_pyspark1 = spark.read.csv('/content/pyspark-test1 - Sheet1.csv')\n",
        "#df_pyspark1 = spark.read.csv('/content/pyspark-test1 - Sheet1.csv', header=True, inferSchema=True) this way you dont have to do read option later"
      ],
      "metadata": {
        "id": "V-unL4TftSJf"
      },
      "execution_count": null,
      "outputs": []
    },
    {
      "cell_type": "code",
      "source": [
        "df_pyspark1.show()"
      ],
      "metadata": {
        "colab": {
          "base_uri": "https://localhost:8080/"
        },
        "id": "FtNerWh2wqva",
        "outputId": "410c0f62-a63c-4936-b12f-3662c8cff8ab"
      },
      "execution_count": null,
      "outputs": [
        {
          "output_type": "stream",
          "name": "stdout",
          "text": [
            "+-------+---+----------+\n",
            "|   Name|Age|Experience|\n",
            "+-------+---+----------+\n",
            "|Michael| 31|        10|\n",
            "|   Alex| 30|         8|\n",
            "|    Ben| 29|         4|\n",
            "+-------+---+----------+\n",
            "\n"
          ]
        }
      ]
    },
    {
      "cell_type": "code",
      "source": [
        "df_pyspark1 = spark.read.option('header', 'true').csv('/content/pyspark-test1 - Sheet1.csv', inferSchema=True)"
      ],
      "metadata": {
        "id": "dpnixUzHwt3d"
      },
      "execution_count": null,
      "outputs": []
    },
    {
      "cell_type": "code",
      "source": [
        "df_pyspark1.show()"
      ],
      "metadata": {
        "colab": {
          "base_uri": "https://localhost:8080/"
        },
        "id": "Se0xSLmYw8uY",
        "outputId": "38f3a00d-074d-457a-ede7-16a5916f340b"
      },
      "execution_count": null,
      "outputs": [
        {
          "output_type": "stream",
          "name": "stdout",
          "text": [
            "+-------+---+----------+\n",
            "|   Name|Age|Experience|\n",
            "+-------+---+----------+\n",
            "|Michael| 31|        10|\n",
            "|   Alex| 30|         8|\n",
            "|    Ben| 29|         4|\n",
            "+-------+---+----------+\n",
            "\n"
          ]
        }
      ]
    },
    {
      "cell_type": "code",
      "source": [
        "df_pyspark1.printSchema()"
      ],
      "metadata": {
        "colab": {
          "base_uri": "https://localhost:8080/"
        },
        "id": "ApfEyx7-w_SE",
        "outputId": "55edfcad-f3d4-43b0-e3d2-fae78f68eab0"
      },
      "execution_count": null,
      "outputs": [
        {
          "output_type": "stream",
          "name": "stdout",
          "text": [
            "root\n",
            " |-- Name: string (nullable = true)\n",
            " |-- Age: integer (nullable = true)\n",
            " |-- Experience: integer (nullable = true)\n",
            "\n"
          ]
        }
      ]
    },
    {
      "cell_type": "code",
      "source": [
        "type(df_pyspark1) #dataframe is a datastructure where you can perform varius opperations on and is ussually 2 dimenional with rows and column. A spreadsheet is an example."
      ],
      "metadata": {
        "colab": {
          "base_uri": "https://localhost:8080/"
        },
        "id": "lVKw5kZRxa4h",
        "outputId": "10d841f9-80c0-4ac8-ed3c-2ad4dfa81b1c"
      },
      "execution_count": null,
      "outputs": [
        {
          "output_type": "execute_result",
          "data": {
            "text/plain": [
              "pyspark.sql.dataframe.DataFrame"
            ]
          },
          "metadata": {},
          "execution_count": 76
        }
      ]
    },
    {
      "cell_type": "markdown",
      "source": [
        "Selecting columns and indexing"
      ],
      "metadata": {
        "id": "AGBLupH7zpAy"
      }
    },
    {
      "cell_type": "code",
      "source": [
        "df_pyspark1.columns"
      ],
      "metadata": {
        "colab": {
          "base_uri": "https://localhost:8080/"
        },
        "id": "CWap4k9OzQHK",
        "outputId": "e5f2ebab-729a-4eb0-db32-946b9aeb2ccd"
      },
      "execution_count": null,
      "outputs": [
        {
          "output_type": "execute_result",
          "data": {
            "text/plain": [
              "['Name', 'Age', 'Experience']"
            ]
          },
          "metadata": {},
          "execution_count": 77
        }
      ]
    },
    {
      "cell_type": "code",
      "source": [
        "df_pyspark1.head(3)"
      ],
      "metadata": {
        "colab": {
          "base_uri": "https://localhost:8080/"
        },
        "id": "TswPn7xJzukb",
        "outputId": "140268fd-8eef-46a1-fb9a-d18b4b1f93f2"
      },
      "execution_count": null,
      "outputs": [
        {
          "output_type": "execute_result",
          "data": {
            "text/plain": [
              "[Row(Name='Michael', Age=31, Experience=10),\n",
              " Row(Name='Alex', Age=30, Experience=8),\n",
              " Row(Name='Ben', Age=29, Experience=4)]"
            ]
          },
          "metadata": {},
          "execution_count": 78
        }
      ]
    },
    {
      "cell_type": "code",
      "source": [
        "df_pyspark1.show()"
      ],
      "metadata": {
        "colab": {
          "base_uri": "https://localhost:8080/"
        },
        "id": "RJIzGF5vzy_0",
        "outputId": "d569fe98-8e58-48c3-89e6-1d8a121fad33"
      },
      "execution_count": null,
      "outputs": [
        {
          "output_type": "stream",
          "name": "stdout",
          "text": [
            "+-------+---+----------+\n",
            "|   Name|Age|Experience|\n",
            "+-------+---+----------+\n",
            "|Michael| 31|        10|\n",
            "|   Alex| 30|         8|\n",
            "|    Ben| 29|         4|\n",
            "+-------+---+----------+\n",
            "\n"
          ]
        }
      ]
    },
    {
      "cell_type": "code",
      "source": [
        "df_pyspark1.select('Name')"
      ],
      "metadata": {
        "colab": {
          "base_uri": "https://localhost:8080/"
        },
        "id": "rVoStt7kz3yW",
        "outputId": "a0fedc37-54ac-470b-e3aa-292c30f3f24c"
      },
      "execution_count": null,
      "outputs": [
        {
          "output_type": "execute_result",
          "data": {
            "text/plain": [
              "DataFrame[Name: string]"
            ]
          },
          "metadata": {},
          "execution_count": 83
        }
      ]
    },
    {
      "cell_type": "code",
      "source": [
        "df_pyspark1.select('Name').show()"
      ],
      "metadata": {
        "colab": {
          "base_uri": "https://localhost:8080/"
        },
        "id": "_j12WRS50Dc1",
        "outputId": "a9064fc6-38dd-46c7-c722-1407849d087a"
      },
      "execution_count": null,
      "outputs": [
        {
          "output_type": "stream",
          "name": "stdout",
          "text": [
            "+-------+\n",
            "|   Name|\n",
            "+-------+\n",
            "|Michael|\n",
            "|   Alex|\n",
            "|    Ben|\n",
            "+-------+\n",
            "\n"
          ]
        }
      ]
    },
    {
      "cell_type": "code",
      "source": [
        "type(df_pyspark1.select('Name'))"
      ],
      "metadata": {
        "colab": {
          "base_uri": "https://localhost:8080/"
        },
        "id": "bdEtZem_z8oK",
        "outputId": "aae4e7f4-19c0-4046-f2ce-33ea464d738f"
      },
      "execution_count": null,
      "outputs": [
        {
          "output_type": "execute_result",
          "data": {
            "text/plain": [
              "pyspark.sql.dataframe.DataFrame"
            ]
          },
          "metadata": {},
          "execution_count": 90
        }
      ]
    },
    {
      "cell_type": "code",
      "source": [
        "df_pyspark1.select(['Name', 'Experience'])"
      ],
      "metadata": {
        "colab": {
          "base_uri": "https://localhost:8080/"
        },
        "id": "sitNGvyR0M7k",
        "outputId": "83f152bc-43b2-4e0a-9860-6063df5f9640"
      },
      "execution_count": null,
      "outputs": [
        {
          "output_type": "execute_result",
          "data": {
            "text/plain": [
              "DataFrame[Name: string, Experience: int]"
            ]
          },
          "metadata": {},
          "execution_count": 92
        }
      ]
    },
    {
      "cell_type": "code",
      "source": [
        "df_pyspark1.select(['Name', 'Experience']).show()"
      ],
      "metadata": {
        "colab": {
          "base_uri": "https://localhost:8080/"
        },
        "id": "ztVYbN090u9I",
        "outputId": "017c3a7c-eeab-4a28-8b7f-05dd848f7a98"
      },
      "execution_count": null,
      "outputs": [
        {
          "output_type": "stream",
          "name": "stdout",
          "text": [
            "+-------+----------+\n",
            "|   Name|Experience|\n",
            "+-------+----------+\n",
            "|Michael|        10|\n",
            "|   Alex|         8|\n",
            "|    Ben|         4|\n",
            "+-------+----------+\n",
            "\n"
          ]
        }
      ]
    },
    {
      "cell_type": "code",
      "source": [
        "df_pyspark1['Name']"
      ],
      "metadata": {
        "colab": {
          "base_uri": "https://localhost:8080/"
        },
        "id": "d0SiqoZh0yZx",
        "outputId": "7dfe280b-0d79-48f3-d0fa-ba39f4d1d997"
      },
      "execution_count": null,
      "outputs": [
        {
          "output_type": "execute_result",
          "data": {
            "text/plain": [
              "Column<'Name'>"
            ]
          },
          "metadata": {},
          "execution_count": 100
        }
      ]
    },
    {
      "cell_type": "code",
      "source": [
        "df_pyspark1.describe()"
      ],
      "metadata": {
        "colab": {
          "base_uri": "https://localhost:8080/"
        },
        "id": "ho-SV3cZ02q9",
        "outputId": "2af02399-1de9-4784-fc36-307551603c43"
      },
      "execution_count": null,
      "outputs": [
        {
          "output_type": "execute_result",
          "data": {
            "text/plain": [
              "DataFrame[summary: string, Name: string, Age: string, Experience: string]"
            ]
          },
          "metadata": {},
          "execution_count": 101
        }
      ]
    },
    {
      "cell_type": "code",
      "source": [
        "df_pyspark1.describe().show()"
      ],
      "metadata": {
        "colab": {
          "base_uri": "https://localhost:8080/"
        },
        "id": "b2FeELOI1F-7",
        "outputId": "e0d46ac5-6e53-4dc2-8d80-89c205b30a8c"
      },
      "execution_count": null,
      "outputs": [
        {
          "output_type": "stream",
          "name": "stdout",
          "text": [
            "+-------+-------+----+-----------------+\n",
            "|summary|   Name| Age|       Experience|\n",
            "+-------+-------+----+-----------------+\n",
            "|  count|      3|   3|                3|\n",
            "|   mean|   NULL|30.0|7.333333333333333|\n",
            "| stddev|   NULL| 1.0|3.055050463303893|\n",
            "|    min|   Alex|  29|                4|\n",
            "|    max|Michael|  31|               10|\n",
            "+-------+-------+----+-----------------+\n",
            "\n"
          ]
        }
      ]
    },
    {
      "cell_type": "markdown",
      "source": [
        "Adding Columns in data frame"
      ],
      "metadata": {
        "id": "AfJgp7dR1iWW"
      }
    },
    {
      "cell_type": "code",
      "source": [
        "df_pyspark1.withColumn('Experience After 2 year', df_pyspark1['Experience']+2)"
      ],
      "metadata": {
        "colab": {
          "base_uri": "https://localhost:8080/"
        },
        "id": "jk9qeRWc1h83",
        "outputId": "eeb23e61-ae5f-493c-bddd-7f00ad224b3a"
      },
      "execution_count": null,
      "outputs": [
        {
          "output_type": "execute_result",
          "data": {
            "text/plain": [
              "DataFrame[Name: string, Age: int, Experience: int, Experience After 2 year: int]"
            ]
          },
          "metadata": {},
          "execution_count": 103
        }
      ]
    },
    {
      "cell_type": "code",
      "source": [
        "df_pyspark1 = df_pyspark1.withColumn('Experience After 2 year', df_pyspark1['Experience']+2)"
      ],
      "metadata": {
        "id": "L6mk95gt1yLU"
      },
      "execution_count": null,
      "outputs": []
    },
    {
      "cell_type": "code",
      "source": [
        "df_pyspark1.show()"
      ],
      "metadata": {
        "colab": {
          "base_uri": "https://localhost:8080/"
        },
        "id": "68oavPM5155K",
        "outputId": "b8b76db1-05f4-4e0a-98fe-e11510d6f9f9"
      },
      "execution_count": null,
      "outputs": [
        {
          "output_type": "stream",
          "name": "stdout",
          "text": [
            "+-------+---+----------+-----------------------+\n",
            "|   Name|Age|Experience|Experience After 2 year|\n",
            "+-------+---+----------+-----------------------+\n",
            "|Michael| 31|        10|                     12|\n",
            "|   Alex| 30|         8|                     10|\n",
            "|    Ben| 29|         4|                      6|\n",
            "+-------+---+----------+-----------------------+\n",
            "\n"
          ]
        }
      ]
    },
    {
      "cell_type": "markdown",
      "source": [
        "Drop the columns"
      ],
      "metadata": {
        "id": "nX2hVjil3AiY"
      }
    },
    {
      "cell_type": "code",
      "source": [
        "df_pyspark1.drop('Experience After 2 year').show()"
      ],
      "metadata": {
        "colab": {
          "base_uri": "https://localhost:8080/"
        },
        "id": "CtYiJf_52TKq",
        "outputId": "9b1f6f72-308b-47f8-dd3f-38d548340e9d"
      },
      "execution_count": null,
      "outputs": [
        {
          "output_type": "stream",
          "name": "stdout",
          "text": [
            "+-------+---+----------+\n",
            "|   Name|Age|Experience|\n",
            "+-------+---+----------+\n",
            "|Michael| 31|        10|\n",
            "|   Alex| 30|         8|\n",
            "|    Ben| 29|         4|\n",
            "+-------+---+----------+\n",
            "\n"
          ]
        }
      ]
    },
    {
      "cell_type": "markdown",
      "source": [
        "Rename Columns\n"
      ],
      "metadata": {
        "id": "tu94k2Gz28kH"
      }
    },
    {
      "cell_type": "code",
      "source": [
        "df_pyspark1.withColumnRenamed('Name', 'New Name')"
      ],
      "metadata": {
        "colab": {
          "base_uri": "https://localhost:8080/"
        },
        "id": "flIQUHu72XGc",
        "outputId": "8e7d094d-3c3f-4aba-d4fe-2536105097aa"
      },
      "execution_count": null,
      "outputs": [
        {
          "output_type": "execute_result",
          "data": {
            "text/plain": [
              "DataFrame[New Name: string, Age: int, Experience: int, Experience After 2 year: int]"
            ]
          },
          "metadata": {},
          "execution_count": 113
        }
      ]
    },
    {
      "cell_type": "code",
      "source": [
        "df_pyspark1.withColumnRenamed('Name', 'New Name').show()"
      ],
      "metadata": {
        "colab": {
          "base_uri": "https://localhost:8080/"
        },
        "id": "e65mMoSY20ES",
        "outputId": "c8eafcf7-3854-447d-8ba4-297d28870823"
      },
      "execution_count": null,
      "outputs": [
        {
          "output_type": "stream",
          "name": "stdout",
          "text": [
            "+--------+---+----------+-----------------------+\n",
            "|New Name|Age|Experience|Experience After 2 year|\n",
            "+--------+---+----------+-----------------------+\n",
            "| Michael| 31|        10|                     12|\n",
            "|    Alex| 30|         8|                     10|\n",
            "|     Ben| 29|         4|                      6|\n",
            "+--------+---+----------+-----------------------+\n",
            "\n"
          ]
        }
      ]
    },
    {
      "cell_type": "markdown",
      "source": [
        "## PySpark Handling Missing Values\n",
        "Dropping Columns\n",
        "\n",
        "Dropping Rows\n",
        "\n",
        "Various Parameter in Dropping functionalities\n",
        "\n",
        "Handling Missing values by Mean, Median and Mode\n",
        "\n"
      ],
      "metadata": {
        "id": "2wPYYyEI3JYZ"
      }
    },
    {
      "cell_type": "code",
      "source": [
        "from pyspark.sql import SparkSession"
      ],
      "metadata": {
        "id": "ywJ1WvCa26jC"
      },
      "execution_count": null,
      "outputs": []
    },
    {
      "cell_type": "code",
      "source": [
        "spark=SparkSession.builder.appName('Practice').getOrCreate()"
      ],
      "metadata": {
        "id": "Oiqwmy0p3kzt"
      },
      "execution_count": null,
      "outputs": []
    },
    {
      "cell_type": "code",
      "source": [
        "df_pyspark2 = spark.read.csv('/content/test2 - Sheet1.csv', header = True, inferSchema=True)"
      ],
      "metadata": {
        "id": "OE43Cre_3yd_"
      },
      "execution_count": null,
      "outputs": []
    },
    {
      "cell_type": "code",
      "source": [
        "spark.read.csv('/content/test2 - Sheet1.csv', header = True).show()"
      ],
      "metadata": {
        "colab": {
          "base_uri": "https://localhost:8080/"
        },
        "id": "dWlOqRV2Kc1p",
        "outputId": "c340dc19-c49c-4ee4-d13d-7461b05f972f"
      },
      "execution_count": null,
      "outputs": [
        {
          "output_type": "stream",
          "name": "stdout",
          "text": [
            "+----------+----+----------+------+\n",
            "|      Name| Age|Experience|Salary|\n",
            "+----------+----+----------+------+\n",
            "|     Krish|  31|        10| 30000|\n",
            "|Sudhanshun|  30|         8| 25000|\n",
            "|     Sunny|  29|         4| 20000|\n",
            "|      Paul|  24|         3| 20000|\n",
            "|    Harsha|  21|         1| 15000|\n",
            "|   Shubham|  23|         2| 18000|\n",
            "|    Mahesh|NULL|      NULL| 40000|\n",
            "|      NULL|  34|        10| 38000|\n",
            "|      NULL|  36|      NULL|  NULL|\n",
            "+----------+----+----------+------+\n",
            "\n"
          ]
        }
      ]
    },
    {
      "cell_type": "code",
      "source": [
        "df_pyspark2.printSchema()"
      ],
      "metadata": {
        "colab": {
          "base_uri": "https://localhost:8080/"
        },
        "id": "hMRlTlaBKsY9",
        "outputId": "0f153b58-de8d-4b1d-8b00-b2ec35623087"
      },
      "execution_count": null,
      "outputs": [
        {
          "output_type": "stream",
          "name": "stdout",
          "text": [
            "root\n",
            " |-- Name: string (nullable = true)\n",
            " |-- Age: integer (nullable = true)\n",
            " |-- Experience: integer (nullable = true)\n",
            " |-- Salary: integer (nullable = true)\n",
            "\n"
          ]
        }
      ]
    },
    {
      "cell_type": "code",
      "source": [
        "df_pyspark2.drop(\"Name\").show()"
      ],
      "metadata": {
        "colab": {
          "base_uri": "https://localhost:8080/"
        },
        "id": "3AtnWqo7LNIp",
        "outputId": "6b24699e-bb04-4e85-b697-58da20157dc9"
      },
      "execution_count": null,
      "outputs": [
        {
          "output_type": "stream",
          "name": "stdout",
          "text": [
            "+----+----------+------+\n",
            "| Age|Experience|Salary|\n",
            "+----+----------+------+\n",
            "|  31|        10| 30000|\n",
            "|  30|         8| 25000|\n",
            "|  29|         4| 20000|\n",
            "|  24|         3| 20000|\n",
            "|  21|         1| 15000|\n",
            "|  23|         2| 18000|\n",
            "|NULL|      NULL| 40000|\n",
            "|  34|        10| 38000|\n",
            "|  36|      NULL|  NULL|\n",
            "+----+----------+------+\n",
            "\n"
          ]
        }
      ]
    },
    {
      "cell_type": "code",
      "source": [
        "df_pyspark2.na.drop().show()"
      ],
      "metadata": {
        "colab": {
          "base_uri": "https://localhost:8080/"
        },
        "id": "7rf498PGLSmW",
        "outputId": "2cd76875-9540-44fb-c682-57361d382d12"
      },
      "execution_count": null,
      "outputs": [
        {
          "output_type": "stream",
          "name": "stdout",
          "text": [
            "+----------+---+----------+------+\n",
            "|      Name|Age|Experience|Salary|\n",
            "+----------+---+----------+------+\n",
            "|     Krish| 31|        10| 30000|\n",
            "|Sudhanshun| 30|         8| 25000|\n",
            "|     Sunny| 29|         4| 20000|\n",
            "|      Paul| 24|         3| 20000|\n",
            "|    Harsha| 21|         1| 15000|\n",
            "|   Shubham| 23|         2| 18000|\n",
            "+----------+---+----------+------+\n",
            "\n"
          ]
        }
      ]
    },
    {
      "cell_type": "code",
      "source": [
        "#only drops if the whole row is null\n",
        "df_pyspark2.na.drop(how=\"any\").show()"
      ],
      "metadata": {
        "colab": {
          "base_uri": "https://localhost:8080/",
          "height": 199
        },
        "id": "bNY5ZlxwLUMp",
        "outputId": "aa9977af-7a22-4833-d9b3-d3352ed7a2b8"
      },
      "execution_count": null,
      "outputs": [
        {
          "output_type": "error",
          "ename": "NameError",
          "evalue": "name 'df_pyspark2' is not defined",
          "traceback": [
            "\u001b[0;31m---------------------------------------------------------------------------\u001b[0m",
            "\u001b[0;31mNameError\u001b[0m                                 Traceback (most recent call last)",
            "\u001b[0;32m<ipython-input-1-3f47635e3cfe>\u001b[0m in \u001b[0;36m<cell line: 2>\u001b[0;34m()\u001b[0m\n\u001b[1;32m      1\u001b[0m \u001b[0;31m#only drops if the whole row is null\u001b[0m\u001b[0;34m\u001b[0m\u001b[0;34m\u001b[0m\u001b[0m\n\u001b[0;32m----> 2\u001b[0;31m \u001b[0mdf_pyspark2\u001b[0m\u001b[0;34m.\u001b[0m\u001b[0mna\u001b[0m\u001b[0;34m.\u001b[0m\u001b[0mdrop\u001b[0m\u001b[0;34m(\u001b[0m\u001b[0mhow\u001b[0m\u001b[0;34m=\u001b[0m\u001b[0;34m\"any\"\u001b[0m\u001b[0;34m)\u001b[0m\u001b[0;34m.\u001b[0m\u001b[0mshow\u001b[0m\u001b[0;34m(\u001b[0m\u001b[0;34m)\u001b[0m\u001b[0;34m\u001b[0m\u001b[0;34m\u001b[0m\u001b[0m\n\u001b[0m",
            "\u001b[0;31mNameError\u001b[0m: name 'df_pyspark2' is not defined"
          ]
        }
      ]
    },
    {
      "cell_type": "code",
      "source": [
        "#drops any null value\n",
        "df_pyspark2.na.drop(how =\"any\").show()"
      ],
      "metadata": {
        "colab": {
          "base_uri": "https://localhost:8080/"
        },
        "id": "V4Z3zkDcMJ6d",
        "outputId": "7fd92091-f8b1-4f58-8580-481deb19d0aa"
      },
      "execution_count": null,
      "outputs": [
        {
          "output_type": "stream",
          "name": "stdout",
          "text": [
            "+----------+---+----------+------+\n",
            "|      Name|Age|Experience|Salary|\n",
            "+----------+---+----------+------+\n",
            "|     Krish| 31|        10| 30000|\n",
            "|Sudhanshun| 30|         8| 25000|\n",
            "|     Sunny| 29|         4| 20000|\n",
            "|      Paul| 24|         3| 20000|\n",
            "|    Harsha| 21|         1| 15000|\n",
            "|   Shubham| 23|         2| 18000|\n",
            "+----------+---+----------+------+\n",
            "\n"
          ]
        }
      ]
    },
    {
      "cell_type": "code",
      "source": [
        "#threshold\n",
        "df_pyspark2.na.drop(thresh=2).show()\n",
        "#drops all rows that have less than 2 not null values"
      ],
      "metadata": {
        "colab": {
          "base_uri": "https://localhost:8080/"
        },
        "id": "184kA6WbMcCW",
        "outputId": "e40101dc-cd4e-4212-aae8-c38f80dde91e"
      },
      "execution_count": null,
      "outputs": [
        {
          "output_type": "stream",
          "name": "stdout",
          "text": [
            "+----------+----+----------+------+\n",
            "|      Name| Age|Experience|Salary|\n",
            "+----------+----+----------+------+\n",
            "|     Krish|  31|        10| 30000|\n",
            "|Sudhanshun|  30|         8| 25000|\n",
            "|     Sunny|  29|         4| 20000|\n",
            "|      Paul|  24|         3| 20000|\n",
            "|    Harsha|  21|         1| 15000|\n",
            "|   Shubham|  23|         2| 18000|\n",
            "|    Mahesh|NULL|      NULL| 40000|\n",
            "|      NULL|  34|        10| 38000|\n",
            "+----------+----+----------+------+\n",
            "\n"
          ]
        }
      ]
    },
    {
      "cell_type": "code",
      "source": [
        "df_pyspark2.na.drop(thresh=3).show()\n",
        "#drops all rows that have less than 2 not null values"
      ],
      "metadata": {
        "colab": {
          "base_uri": "https://localhost:8080/"
        },
        "id": "QSvrucwbM43W",
        "outputId": "60923ca7-ab78-4164-84b4-08ec970c95d0"
      },
      "execution_count": null,
      "outputs": [
        {
          "output_type": "stream",
          "name": "stdout",
          "text": [
            "+----------+---+----------+------+\n",
            "|      Name|Age|Experience|Salary|\n",
            "+----------+---+----------+------+\n",
            "|     Krish| 31|        10| 30000|\n",
            "|Sudhanshun| 30|         8| 25000|\n",
            "|     Sunny| 29|         4| 20000|\n",
            "|      Paul| 24|         3| 20000|\n",
            "|    Harsha| 21|         1| 15000|\n",
            "|   Shubham| 23|         2| 18000|\n",
            "|      NULL| 34|        10| 38000|\n",
            "+----------+---+----------+------+\n",
            "\n"
          ]
        }
      ]
    },
    {
      "cell_type": "code",
      "source": [
        "##Subset"
      ],
      "metadata": {
        "id": "gEkSI_EzNTyM"
      },
      "execution_count": null,
      "outputs": []
    },
    {
      "cell_type": "code",
      "source": [
        "df_pyspark2.na.drop(subset=['Age', 'Experience']).show()\n",
        "#drops whole row if it has a null in that group"
      ],
      "metadata": {
        "colab": {
          "base_uri": "https://localhost:8080/"
        },
        "id": "MOZLxRa6NWzZ",
        "outputId": "22d9dc32-f394-4d96-9132-f371a6859374"
      },
      "execution_count": null,
      "outputs": [
        {
          "output_type": "stream",
          "name": "stdout",
          "text": [
            "+----------+---+----------+------+\n",
            "|      Name|Age|Experience|Salary|\n",
            "+----------+---+----------+------+\n",
            "|     Krish| 31|        10| 30000|\n",
            "|Sudhanshun| 30|         8| 25000|\n",
            "|     Sunny| 29|         4| 20000|\n",
            "|      Paul| 24|         3| 20000|\n",
            "|    Harsha| 21|         1| 15000|\n",
            "|   Shubham| 23|         2| 18000|\n",
            "|      NULL| 34|        10| 38000|\n",
            "+----------+---+----------+------+\n",
            "\n"
          ]
        }
      ]
    },
    {
      "cell_type": "code",
      "source": [
        "###Filling the missing vlaue"
      ],
      "metadata": {
        "id": "gPSm6USmNev6"
      },
      "execution_count": null,
      "outputs": []
    },
    {
      "cell_type": "code",
      "source": [
        "\n",
        "df_pyspark2.na.fill('Missing Values').show()"
      ],
      "metadata": {
        "colab": {
          "base_uri": "https://localhost:8080/"
        },
        "id": "pgQ6KXYcNtvw",
        "outputId": "14bc8a74-f5d6-49ee-a4b9-e3f411e6fae5"
      },
      "execution_count": null,
      "outputs": [
        {
          "output_type": "stream",
          "name": "stdout",
          "text": [
            "+--------------+--------------+--------------+--------------+\n",
            "|          Name|           Age|    Experience|        Salary|\n",
            "+--------------+--------------+--------------+--------------+\n",
            "|         Krish|            31|            10|         30000|\n",
            "|    Sudhanshun|            30|             8|         25000|\n",
            "|         Sunny|            29|             4|         20000|\n",
            "|          Paul|            24|             3|         20000|\n",
            "|        Harsha|            21|             1|         15000|\n",
            "|       Shubham|            23|             2|         18000|\n",
            "|        Mahesh|Missing Values|Missing Values|         40000|\n",
            "|Missing Values|            34|            10|         38000|\n",
            "|Missing Values|            36|Missing Values|Missing Values|\n",
            "+--------------+--------------+--------------+--------------+\n",
            "\n"
          ]
        }
      ]
    },
    {
      "cell_type": "code",
      "source": [
        "df_pyspark2.na.fill('Missing Values', 'Experience').show()"
      ],
      "metadata": {
        "colab": {
          "base_uri": "https://localhost:8080/"
        },
        "id": "KEM-EPx0N0QC",
        "outputId": "d2e4ca23-49aa-4e40-f185-eaacee5674df"
      },
      "execution_count": null,
      "outputs": [
        {
          "output_type": "stream",
          "name": "stdout",
          "text": [
            "+----------+----+--------------+------+\n",
            "|      Name| Age|    Experience|Salary|\n",
            "+----------+----+--------------+------+\n",
            "|     Krish|  31|            10| 30000|\n",
            "|Sudhanshun|  30|             8| 25000|\n",
            "|     Sunny|  29|             4| 20000|\n",
            "|      Paul|  24|             3| 20000|\n",
            "|    Harsha|  21|             1| 15000|\n",
            "|   Shubham|  23|             2| 18000|\n",
            "|    Mahesh|NULL|Missing Values| 40000|\n",
            "|      NULL|  34|            10| 38000|\n",
            "|      NULL|  36|Missing Values|  NULL|\n",
            "+----------+----+--------------+------+\n",
            "\n"
          ]
        }
      ]
    },
    {
      "cell_type": "code",
      "source": [
        "df_pyspark2.na.fill('Missing Values', ['Experience', 'Age']).show()"
      ],
      "metadata": {
        "colab": {
          "base_uri": "https://localhost:8080/"
        },
        "id": "kO5G54mSRb_X",
        "outputId": "cc21cf1f-f33b-4a1e-ee88-6b2be134a710"
      },
      "execution_count": null,
      "outputs": [
        {
          "output_type": "stream",
          "name": "stdout",
          "text": [
            "+----------+--------------+--------------+------+\n",
            "|      Name|           Age|    Experience|Salary|\n",
            "+----------+--------------+--------------+------+\n",
            "|     Krish|            31|            10| 30000|\n",
            "|Sudhanshun|            30|             8| 25000|\n",
            "|     Sunny|            29|             4| 20000|\n",
            "|      Paul|            24|             3| 20000|\n",
            "|    Harsha|            21|             1| 15000|\n",
            "|   Shubham|            23|             2| 18000|\n",
            "|    Mahesh|Missing Values|Missing Values| 40000|\n",
            "|      NULL|            34|            10| 38000|\n",
            "|      NULL|            36|Missing Values|  NULL|\n",
            "+----------+--------------+--------------+------+\n",
            "\n"
          ]
        }
      ]
    },
    {
      "cell_type": "code",
      "source": [
        "df_pyspark2.show()"
      ],
      "metadata": {
        "colab": {
          "base_uri": "https://localhost:8080/"
        },
        "id": "7pGCy5xdRhJQ",
        "outputId": "296982c1-e328-4144-e5c1-81043dccf514"
      },
      "execution_count": null,
      "outputs": [
        {
          "output_type": "stream",
          "name": "stdout",
          "text": [
            "+----------+----+----------+------+\n",
            "|      Name| Age|Experience|Salary|\n",
            "+----------+----+----------+------+\n",
            "|     Krish|  31|        10| 30000|\n",
            "|Sudhanshun|  30|         8| 25000|\n",
            "|     Sunny|  29|         4| 20000|\n",
            "|      Paul|  24|         3| 20000|\n",
            "|    Harsha|  21|         1| 15000|\n",
            "|   Shubham|  23|         2| 18000|\n",
            "|    Mahesh|NULL|      NULL| 40000|\n",
            "|      NULL|  34|        10| 38000|\n",
            "|      NULL|  36|      NULL|  NULL|\n",
            "+----------+----+----------+------+\n",
            "\n"
          ]
        }
      ]
    },
    {
      "cell_type": "code",
      "source": [
        "import pyspark\n",
        "from pyspark.sql import SparkSession\n",
        "from pyspark.ml.feature import Imputer\n",
        "spark=SparkSession.builder.appName(\"Practise\").getOrCreate()\n",
        "df_pyspark1.withColumn('Experience After 2 year', df_pyspark1['Experience']+2)\n",
        "df_pyspark3.filter((df_pyspark3[\"Salary\"]<=20000) & (df_pyspark3[\"Salary\"]>=15000)).show()\n",
        "df_pyspark4.groupBy('Name').sum().show()\n",
        "df_pyspark4.agg({'Salary': 'sum'}).show()\n",
        "from pyspark.ml.feature import VectorAssembler\n",
        "featureassembler = VectorAssembler(inputCols=[\"Age\", \"Experience\"], outputCol=\"Independent Feature\")\n",
        "output=featureassembler.transform(training)\n",
        "output.show()\n",
        "output.columns\n",
        "finalized_data = output.select(\"Independent Feature\", \"Salary\")\n",
        "from pyspark.ml.regression import LinearRegression\n",
        "train_data, test_data = finalized_data.randomSplit([.75, .25])\n",
        "regressor = LinearRegression(featuresCol='Independent Feature', labelCol = \"Salary\")\n",
        "regressor = regressor.fit(train_data)"
      ],
      "metadata": {
        "id": "wp0Jm0PSRkXr"
      },
      "execution_count": null,
      "outputs": []
    },
    {
      "cell_type": "code",
      "source": [
        "imputer = Imputer(\n",
        "    inputCols=['Age','Experience', 'Salary'],\n",
        "    outputCols=[\"{}.imputed\".format(c) for c in ['Age', 'Experience', 'Salary']],\n",
        ").setStrategy(\"mean\")"
      ],
      "metadata": {
        "id": "M_XgsLMwRqm1"
      },
      "execution_count": null,
      "outputs": []
    },
    {
      "cell_type": "code",
      "source": [
        "imputer.fit(df_pyspark2).transform(df_pyspark2).show()"
      ],
      "metadata": {
        "colab": {
          "base_uri": "https://localhost:8080/"
        },
        "id": "WC51KQnnSRlu",
        "outputId": "1210c296-172f-4c37-9799-12edbadb075c"
      },
      "execution_count": null,
      "outputs": [
        {
          "output_type": "stream",
          "name": "stdout",
          "text": [
            "+----------+----+----------+------+-----------+------------------+--------------+\n",
            "|      Name| Age|Experience|Salary|Age.imputed|Experience.imputed|Salary.imputed|\n",
            "+----------+----+----------+------+-----------+------------------+--------------+\n",
            "|     Krish|  31|        10| 30000|         31|                10|         30000|\n",
            "|Sudhanshun|  30|         8| 25000|         30|                 8|         25000|\n",
            "|     Sunny|  29|         4| 20000|         29|                 4|         20000|\n",
            "|      Paul|  24|         3| 20000|         24|                 3|         20000|\n",
            "|    Harsha|  21|         1| 15000|         21|                 1|         15000|\n",
            "|   Shubham|  23|         2| 18000|         23|                 2|         18000|\n",
            "|    Mahesh|NULL|      NULL| 40000|         28|                 5|         40000|\n",
            "|      NULL|  34|        10| 38000|         34|                10|         38000|\n",
            "|      NULL|  36|      NULL|  NULL|         36|                 5|         25750|\n",
            "+----------+----+----------+------+-----------+------------------+--------------+\n",
            "\n"
          ]
        }
      ]
    },
    {
      "cell_type": "markdown",
      "source": [
        "PySpark Dataframes\n",
        ".Filter Operation\n",
        ".&,|==\n",
        ".~"
      ],
      "metadata": {
        "id": "y3yEiOsQSzil"
      }
    },
    {
      "cell_type": "code",
      "source": [
        "df_pyspark3 = spark.read.csv(\"/content/test1 - Sheet1.csv\", header = True)"
      ],
      "metadata": {
        "id": "g5l7RcTgSX_c"
      },
      "execution_count": null,
      "outputs": []
    },
    {
      "cell_type": "code",
      "source": [
        "df_pyspark3.show()"
      ],
      "metadata": {
        "colab": {
          "base_uri": "https://localhost:8080/"
        },
        "id": "76Yw9vy8Ue1_",
        "outputId": "e1132138-ef00-403e-a10b-8e31a0f7e660"
      },
      "execution_count": null,
      "outputs": [
        {
          "output_type": "stream",
          "name": "stdout",
          "text": [
            "+-------+---+----------+------+\n",
            "|   Name|Age|Experience|Salary|\n",
            "+-------+---+----------+------+\n",
            "|Michael| 31|        10| 30000|\n",
            "|   Alex| 30|         8| 25000|\n",
            "|    Ben| 29|         4| 20000|\n",
            "+-------+---+----------+------+\n",
            "\n"
          ]
        }
      ]
    },
    {
      "cell_type": "markdown",
      "source": [
        "### Filter Operations"
      ],
      "metadata": {
        "id": "NwWHU9NBUBln"
      }
    },
    {
      "cell_type": "code",
      "source": [
        "##Salry of the people less than or equal to 20000"
      ],
      "metadata": {
        "id": "02tehlhHTiB0"
      },
      "execution_count": null,
      "outputs": []
    },
    {
      "cell_type": "code",
      "source": [
        "df_pyspark3.filter(\"Salary<=20000\").show()"
      ],
      "metadata": {
        "colab": {
          "base_uri": "https://localhost:8080/"
        },
        "id": "9M-wBYeiT_UG",
        "outputId": "e99c009b-47fc-40da-b633-514e28075af9"
      },
      "execution_count": null,
      "outputs": [
        {
          "output_type": "stream",
          "name": "stdout",
          "text": [
            "+----+---+----------+------+\n",
            "|Name|Age|Experience|Salary|\n",
            "+----+---+----------+------+\n",
            "| Ben| 29|         4| 20000|\n",
            "+----+---+----------+------+\n",
            "\n"
          ]
        }
      ]
    },
    {
      "cell_type": "code",
      "source": [
        "df_pyspark3.filter(\"Salary<=20000\").select([\"Name\", \"Age\"]).show()"
      ],
      "metadata": {
        "id": "Z-rl1oVTUNyD",
        "colab": {
          "base_uri": "https://localhost:8080/"
        },
        "outputId": "b5006fe6-c82b-4d41-90a6-411fe9c6e200"
      },
      "execution_count": null,
      "outputs": [
        {
          "output_type": "stream",
          "name": "stdout",
          "text": [
            "+----+---+\n",
            "|Name|Age|\n",
            "+----+---+\n",
            "| Ben| 29|\n",
            "+----+---+\n",
            "\n"
          ]
        }
      ]
    },
    {
      "cell_type": "code",
      "source": [
        "df_pyspark3.filter((df_pyspark3[\"Salary\"]<=20000) & (df_pyspark3[\"Salary\"]>=15000)).show()"
      ],
      "metadata": {
        "colab": {
          "base_uri": "https://localhost:8080/"
        },
        "id": "1kQlTpy4_jPr",
        "outputId": "09a7075c-4c84-47e0-cf7a-b9b0cd2dc91a"
      },
      "execution_count": null,
      "outputs": [
        {
          "output_type": "stream",
          "name": "stdout",
          "text": [
            "+----+---+----------+------+\n",
            "|Name|Age|Experience|Salary|\n",
            "+----+---+----------+------+\n",
            "| Ben| 29|         4| 20000|\n",
            "+----+---+----------+------+\n",
            "\n"
          ]
        }
      ]
    },
    {
      "cell_type": "code",
      "source": [
        "df_pyspark3.filter((df_pyspark3[\"Salary\"]<=20000) | (df_pyspark3[\"Salary\"]>=15000)).show()"
      ],
      "metadata": {
        "colab": {
          "base_uri": "https://localhost:8080/"
        },
        "id": "dUe9Kf6ZAc03",
        "outputId": "8529ab36-d7d7-48b5-f2b5-385512ab0b23"
      },
      "execution_count": null,
      "outputs": [
        {
          "output_type": "stream",
          "name": "stdout",
          "text": [
            "+-------+---+----------+------+\n",
            "|   Name|Age|Experience|Salary|\n",
            "+-------+---+----------+------+\n",
            "|Michael| 31|        10| 30000|\n",
            "|   Alex| 30|         8| 25000|\n",
            "|    Ben| 29|         4| 20000|\n",
            "+-------+---+----------+------+\n",
            "\n"
          ]
        }
      ]
    },
    {
      "cell_type": "code",
      "source": [
        "df_pyspark3.filter(~(df_pyspark3[\"Salary\"]<=20000)).show()"
      ],
      "metadata": {
        "colab": {
          "base_uri": "https://localhost:8080/"
        },
        "id": "6Y8Kv0kyAwSh",
        "outputId": "49f3badb-6c4c-43e2-f38f-69212aa72900"
      },
      "execution_count": null,
      "outputs": [
        {
          "output_type": "stream",
          "name": "stdout",
          "text": [
            "+-------+---+----------+------+\n",
            "|   Name|Age|Experience|Salary|\n",
            "+-------+---+----------+------+\n",
            "|Michael| 31|        10| 30000|\n",
            "|   Alex| 30|         8| 25000|\n",
            "+-------+---+----------+------+\n",
            "\n"
          ]
        }
      ]
    },
    {
      "cell_type": "code",
      "source": [
        "spark1 = SparkSession.builder.appName(\"practice1\").getOrCreate()"
      ],
      "metadata": {
        "id": "XiP7eXI4A-P_"
      },
      "execution_count": null,
      "outputs": []
    },
    {
      "cell_type": "code",
      "source": [
        "spark1"
      ],
      "metadata": {
        "colab": {
          "base_uri": "https://localhost:8080/",
          "height": 221
        },
        "id": "JMS5Hx6KblkG",
        "outputId": "ade6f085-4627-47b6-cd7e-03d4090a1b4f"
      },
      "execution_count": null,
      "outputs": [
        {
          "output_type": "execute_result",
          "data": {
            "text/plain": [
              "<pyspark.sql.session.SparkSession at 0x7e1442274a30>"
            ],
            "text/html": [
              "\n",
              "            <div>\n",
              "                <p><b>SparkSession - in-memory</b></p>\n",
              "                \n",
              "        <div>\n",
              "            <p><b>SparkContext</b></p>\n",
              "\n",
              "            <p><a href=\"http://ae8a67fb11e9:4040\">Spark UI</a></p>\n",
              "\n",
              "            <dl>\n",
              "              <dt>Version</dt>\n",
              "                <dd><code>v3.5.0</code></dd>\n",
              "              <dt>Master</dt>\n",
              "                <dd><code>local[*]</code></dd>\n",
              "              <dt>AppName</dt>\n",
              "                <dd><code>practice1</code></dd>\n",
              "            </dl>\n",
              "        </div>\n",
              "        \n",
              "            </div>\n",
              "        "
            ]
          },
          "metadata": {},
          "execution_count": 8
        }
      ]
    },
    {
      "cell_type": "code",
      "source": [
        "df_pyspark4 = spark1.read.csv(\"/content/pySpark-test - Sheet1 (2).csv\", header = True, inferSchema= True)"
      ],
      "metadata": {
        "id": "3FW4ASP2bpxq"
      },
      "execution_count": null,
      "outputs": []
    },
    {
      "cell_type": "code",
      "source": [
        "df_pyspark4.show()"
      ],
      "metadata": {
        "colab": {
          "base_uri": "https://localhost:8080/"
        },
        "id": "nS0ER6WccBrz",
        "outputId": "823f7669-8fe0-4cc9-d752-97342d605bc1"
      },
      "execution_count": null,
      "outputs": [
        {
          "output_type": "stream",
          "name": "stdout",
          "text": [
            "+-------+----------+------+\n",
            "|   Name|Department|Salary|\n",
            "+-------+----------+------+\n",
            "|Michael|    school|    35|\n",
            "|   Alex|  hospital|    68|\n",
            "|    Ben|      tech|    21|\n",
            "|    Ben|   science|    32|\n",
            "|   Alex|      math|    46|\n",
            "|Michael|   history|    32|\n",
            "|   Alex|  hospital|    31|\n",
            "+-------+----------+------+\n",
            "\n"
          ]
        }
      ]
    },
    {
      "cell_type": "code",
      "source": [
        "df_pyspark4.printSchema()"
      ],
      "metadata": {
        "colab": {
          "base_uri": "https://localhost:8080/"
        },
        "id": "K1cFI_aGcJef",
        "outputId": "e090e79c-2617-40e1-f875-25e249cbc909"
      },
      "execution_count": null,
      "outputs": [
        {
          "output_type": "stream",
          "name": "stdout",
          "text": [
            "root\n",
            " |-- Name: string (nullable = true)\n",
            " |-- Department: string (nullable = true)\n",
            " |-- Salary: integer (nullable = true)\n",
            "\n"
          ]
        }
      ]
    },
    {
      "cell_type": "code",
      "source": [
        "## Groupby\n",
        "df_pyspark4.groupBy('Name')"
      ],
      "metadata": {
        "colab": {
          "base_uri": "https://localhost:8080/"
        },
        "id": "070NH59CchYo",
        "outputId": "fd214c71-5578-4e05-b564-3f7555f1f5a6"
      },
      "execution_count": null,
      "outputs": [
        {
          "output_type": "execute_result",
          "data": {
            "text/plain": [
              "GroupedData[grouping expressions: [Name], value: [Name: string, Department: string ... 1 more field], type: GroupBy]"
            ]
          },
          "metadata": {},
          "execution_count": 28
        }
      ]
    },
    {
      "cell_type": "code",
      "source": [
        "df_pyspark4.groupBy('Name').sum()"
      ],
      "metadata": {
        "colab": {
          "base_uri": "https://localhost:8080/"
        },
        "id": "imVzuaRNcp9V",
        "outputId": "3f544572-5172-4e79-8a67-0a131db6ae0a"
      },
      "execution_count": null,
      "outputs": [
        {
          "output_type": "execute_result",
          "data": {
            "text/plain": [
              "DataFrame[Name: string, sum(Salary): bigint]"
            ]
          },
          "metadata": {},
          "execution_count": 29
        }
      ]
    },
    {
      "cell_type": "code",
      "source": [
        "##grouping to find the maximum salary\n",
        "df_pyspark4.groupBy('Name').sum().show()"
      ],
      "metadata": {
        "colab": {
          "base_uri": "https://localhost:8080/"
        },
        "id": "ENsj7P_KcyUt",
        "outputId": "05c233b1-351b-4e1c-968f-91f2762b4a59"
      },
      "execution_count": null,
      "outputs": [
        {
          "output_type": "stream",
          "name": "stdout",
          "text": [
            "+-------+-----------+\n",
            "|   Name|sum(Salary)|\n",
            "+-------+-----------+\n",
            "|Michael|         67|\n",
            "|   Alex|        145|\n",
            "|    Ben|         53|\n",
            "+-------+-----------+\n",
            "\n"
          ]
        }
      ]
    },
    {
      "cell_type": "code",
      "source": [
        "### Group by Department"
      ],
      "metadata": {
        "id": "x_70cR4Lc7Yl"
      },
      "execution_count": null,
      "outputs": []
    },
    {
      "cell_type": "code",
      "source": [
        "df_pyspark4.groupBy(\"Department\").sum().show()"
      ],
      "metadata": {
        "colab": {
          "base_uri": "https://localhost:8080/"
        },
        "id": "uaqBnTFtep2J",
        "outputId": "d04bf9d1-64b8-40e4-c244-1d53a39a7716"
      },
      "execution_count": null,
      "outputs": [
        {
          "output_type": "stream",
          "name": "stdout",
          "text": [
            "+----------+-----------+\n",
            "|Department|sum(Salary)|\n",
            "+----------+-----------+\n",
            "|    school|         35|\n",
            "|   history|         32|\n",
            "|   science|         32|\n",
            "|  hospital|         99|\n",
            "|      tech|         21|\n",
            "|      math|         46|\n",
            "+----------+-----------+\n",
            "\n"
          ]
        }
      ]
    },
    {
      "cell_type": "code",
      "source": [
        "df_pyspark4.groupBy(\"Department\").mean().show()"
      ],
      "metadata": {
        "colab": {
          "base_uri": "https://localhost:8080/"
        },
        "id": "QwyNnan_ex82",
        "outputId": "a4d875e8-db49-4b4f-da51-f72ee250400b"
      },
      "execution_count": null,
      "outputs": [
        {
          "output_type": "stream",
          "name": "stdout",
          "text": [
            "+----------+-----------+\n",
            "|Department|avg(Salary)|\n",
            "+----------+-----------+\n",
            "|    school|       35.0|\n",
            "|   history|       32.0|\n",
            "|   science|       32.0|\n",
            "|  hospital|       49.5|\n",
            "|      tech|       21.0|\n",
            "|      math|       46.0|\n",
            "+----------+-----------+\n",
            "\n"
          ]
        }
      ]
    },
    {
      "cell_type": "code",
      "source": [
        "df_pyspark4.groupBy(\"Department\").count().show()"
      ],
      "metadata": {
        "colab": {
          "base_uri": "https://localhost:8080/"
        },
        "id": "eUpohOrgfcQ9",
        "outputId": "dc89aa6e-8802-4931-da1d-479e40e8f207"
      },
      "execution_count": null,
      "outputs": [
        {
          "output_type": "stream",
          "name": "stdout",
          "text": [
            "+----------+-----+\n",
            "|Department|count|\n",
            "+----------+-----+\n",
            "|    school|    1|\n",
            "|   history|    1|\n",
            "|   science|    1|\n",
            "|  hospital|    2|\n",
            "|      tech|    1|\n",
            "|      math|    1|\n",
            "+----------+-----+\n",
            "\n"
          ]
        }
      ]
    },
    {
      "cell_type": "code",
      "source": [
        "df_pyspark4.agg({'Salary': 'sum'}).show()"
      ],
      "metadata": {
        "colab": {
          "base_uri": "https://localhost:8080/"
        },
        "id": "Wf0yVFJJfjd9",
        "outputId": "13d1a3bf-901e-4850-c0e9-98f4c53d277c"
      },
      "execution_count": null,
      "outputs": [
        {
          "output_type": "stream",
          "name": "stdout",
          "text": [
            "+-----------+\n",
            "|sum(Salary)|\n",
            "+-----------+\n",
            "|        265|\n",
            "+-----------+\n",
            "\n"
          ]
        }
      ]
    },
    {
      "cell_type": "code",
      "source": [
        "df_pyspark4.groupBy('Name').max().show()"
      ],
      "metadata": {
        "colab": {
          "base_uri": "https://localhost:8080/"
        },
        "id": "a_NP7Z2-fsFC",
        "outputId": "fcfbef6b-548f-41a1-f083-1e928e933392"
      },
      "execution_count": null,
      "outputs": [
        {
          "output_type": "stream",
          "name": "stdout",
          "text": [
            "+-------+-----------+\n",
            "|   Name|max(Salary)|\n",
            "+-------+-----------+\n",
            "|Michael|         35|\n",
            "|   Alex|         68|\n",
            "|    Ben|         32|\n",
            "+-------+-----------+\n",
            "\n"
          ]
        }
      ]
    },
    {
      "cell_type": "code",
      "source": [
        "df_pyspark4.groupBy('Name').avg().show()"
      ],
      "metadata": {
        "colab": {
          "base_uri": "https://localhost:8080/"
        },
        "id": "7DL9JSg0gA4l",
        "outputId": "fe9a902d-1387-48ba-b338-fdf87d4fc27c"
      },
      "execution_count": null,
      "outputs": [
        {
          "output_type": "stream",
          "name": "stdout",
          "text": [
            "+-------+------------------+\n",
            "|   Name|       avg(Salary)|\n",
            "+-------+------------------+\n",
            "|Michael|              33.5|\n",
            "|   Alex|48.333333333333336|\n",
            "|    Ben|              26.5|\n",
            "+-------+------------------+\n",
            "\n"
          ]
        }
      ]
    },
    {
      "cell_type": "markdown",
      "source": [
        "## Machine Learning"
      ],
      "metadata": {
        "id": "ZCRI2bOXhD7A"
      }
    },
    {
      "cell_type": "code",
      "source": [],
      "metadata": {
        "id": "c_I6Bs1egXKW"
      },
      "execution_count": null,
      "outputs": []
    },
    {
      "cell_type": "code",
      "source": [
        "df_pyspark5 = spark1.read.csv(\"/content/test1 - Sheet1.csv\", header = True, inferSchema= True)"
      ],
      "metadata": {
        "id": "-2df51VZhgSR"
      },
      "execution_count": null,
      "outputs": []
    },
    {
      "cell_type": "code",
      "source": [
        "df_pyspark5.show()"
      ],
      "metadata": {
        "colab": {
          "base_uri": "https://localhost:8080/"
        },
        "id": "nHroGI8eiXC1",
        "outputId": "5ed968aa-6f18-4620-be16-f9eca9b18266"
      },
      "execution_count": null,
      "outputs": [
        {
          "output_type": "stream",
          "name": "stdout",
          "text": [
            "+-------+---+----------+------+\n",
            "|   Name|Age|Experience|Salary|\n",
            "+-------+---+----------+------+\n",
            "|Michael| 31|        10| 30000|\n",
            "|   Alex| 30|         8| 25000|\n",
            "|    Ben| 29|         4| 20000|\n",
            "|   Pual| 24|         3| 20000|\n",
            "| Harsha| 21|         1| 15000|\n",
            "|Shubham| 23|         2| 18000|\n",
            "+-------+---+----------+------+\n",
            "\n"
          ]
        }
      ]
    },
    {
      "cell_type": "code",
      "source": [
        "df_pyspark5.printSchema()"
      ],
      "metadata": {
        "colab": {
          "base_uri": "https://localhost:8080/"
        },
        "id": "imPq9c4hiNsJ",
        "outputId": "ff85302d-5ec0-477c-ce5d-66cd80a68a6c"
      },
      "execution_count": null,
      "outputs": [
        {
          "output_type": "stream",
          "name": "stdout",
          "text": [
            "root\n",
            " |-- Name: string (nullable = true)\n",
            " |-- Age: integer (nullable = true)\n",
            " |-- Experience: integer (nullable = true)\n",
            " |-- Salary: integer (nullable = true)\n",
            "\n"
          ]
        }
      ]
    },
    {
      "cell_type": "code",
      "source": [
        "training = df_pyspark5"
      ],
      "metadata": {
        "id": "QmhQafwWhkAR"
      },
      "execution_count": null,
      "outputs": []
    },
    {
      "cell_type": "code",
      "source": [
        "training.columns"
      ],
      "metadata": {
        "colab": {
          "base_uri": "https://localhost:8080/"
        },
        "id": "IHprvhkRi0ix",
        "outputId": "abe3a126-c5f2-4024-edea-dc51200ce927"
      },
      "execution_count": null,
      "outputs": [
        {
          "output_type": "execute_result",
          "data": {
            "text/plain": [
              "['Name', 'Age', 'Experience', 'Salary']"
            ]
          },
          "metadata": {},
          "execution_count": 55
        }
      ]
    },
    {
      "cell_type": "code",
      "source": [
        "#[Age,Experience]---> new feature ---> indpendent feauture"
      ],
      "metadata": {
        "id": "3OgpNjVTi53N"
      },
      "execution_count": null,
      "outputs": []
    },
    {
      "cell_type": "code",
      "source": [
        "from pyspark.ml.feature import VectorAssembler"
      ],
      "metadata": {
        "id": "G1iJHtd8jvLI"
      },
      "execution_count": null,
      "outputs": []
    },
    {
      "cell_type": "code",
      "source": [
        "featureassembler = VectorAssembler(inputCols=[\"Age\", \"Experience\"], outputCol=\"Independent Feature\")"
      ],
      "metadata": {
        "id": "6On0AXQLj10L"
      },
      "execution_count": null,
      "outputs": []
    },
    {
      "cell_type": "code",
      "source": [
        "output=featureassembler.transform(training)"
      ],
      "metadata": {
        "id": "rzw-GdAokUBc"
      },
      "execution_count": null,
      "outputs": []
    },
    {
      "cell_type": "code",
      "source": [
        "output.show()"
      ],
      "metadata": {
        "colab": {
          "base_uri": "https://localhost:8080/"
        },
        "id": "ozn1Ez2ykg5j",
        "outputId": "f1713b65-19f4-486c-ccfc-a94c09b777a6"
      },
      "execution_count": null,
      "outputs": [
        {
          "output_type": "stream",
          "name": "stdout",
          "text": [
            "+-------+---+----------+------+-------------------+\n",
            "|   Name|Age|Experience|Salary|Independent Feature|\n",
            "+-------+---+----------+------+-------------------+\n",
            "|Michael| 31|        10| 30000|        [31.0,10.0]|\n",
            "|   Alex| 30|         8| 25000|         [30.0,8.0]|\n",
            "|    Ben| 29|         4| 20000|         [29.0,4.0]|\n",
            "|   Pual| 24|         3| 20000|         [24.0,3.0]|\n",
            "| Harsha| 21|         1| 15000|         [21.0,1.0]|\n",
            "|Shubham| 23|         2| 18000|         [23.0,2.0]|\n",
            "+-------+---+----------+------+-------------------+\n",
            "\n"
          ]
        }
      ]
    },
    {
      "cell_type": "code",
      "source": [
        "output.columns"
      ],
      "metadata": {
        "colab": {
          "base_uri": "https://localhost:8080/"
        },
        "id": "DzACpVrakh0p",
        "outputId": "710a405c-6122-4f48-f1ca-5cfcd0e98a6a"
      },
      "execution_count": null,
      "outputs": [
        {
          "output_type": "execute_result",
          "data": {
            "text/plain": [
              "['Name', 'Age', 'Experience', 'Salary', 'Independent Feature']"
            ]
          },
          "metadata": {},
          "execution_count": 65
        }
      ]
    },
    {
      "cell_type": "code",
      "source": [
        "finalized_data = output.select(\"Independent Feature\", \"Salary\")"
      ],
      "metadata": {
        "id": "b6fJMNfJkuQK"
      },
      "execution_count": null,
      "outputs": []
    },
    {
      "cell_type": "code",
      "source": [
        "from pyspark.ml.regression import LinearRegression"
      ],
      "metadata": {
        "id": "wYwWfyeylBXD"
      },
      "execution_count": null,
      "outputs": []
    },
    {
      "cell_type": "code",
      "source": [
        "##train test split\n",
        "train_data, test_data = finalized_data.randomSplit([.75, .25])\n",
        "regressor = LinearRegression(featuresCol='Independent Feature', labelCol = \"Salary\")\n",
        "regressor = regressor.fit(train_data)"
      ],
      "metadata": {
        "id": "d_dt0isLlIuR"
      },
      "execution_count": null,
      "outputs": []
    },
    {
      "cell_type": "code",
      "source": [
        "regressor.coefficients"
      ],
      "metadata": {
        "colab": {
          "base_uri": "https://localhost:8080/"
        },
        "id": "ZkMwQq36l4Vf",
        "outputId": "b79ae4e4-a9d0-45ce-b7a2-3ab85d996237"
      },
      "execution_count": null,
      "outputs": [
        {
          "output_type": "execute_result",
          "data": {
            "text/plain": [
              "DenseVector([109.3058, 1199.4092])"
            ]
          },
          "metadata": {},
          "execution_count": 74
        }
      ]
    },
    {
      "cell_type": "code",
      "source": [
        "regressor.intercept"
      ],
      "metadata": {
        "colab": {
          "base_uri": "https://localhost:8080/"
        },
        "id": "x9uLENhwl7RW",
        "outputId": "32b267a6-c5c9-48b2-ec7a-7363a81d79e6"
      },
      "execution_count": null,
      "outputs": [
        {
          "output_type": "execute_result",
          "data": {
            "text/plain": [
              "12187.59231905408"
            ]
          },
          "metadata": {},
          "execution_count": 75
        }
      ]
    },
    {
      "cell_type": "code",
      "source": [
        "pred_results = regressor.evaluate(test_data)"
      ],
      "metadata": {
        "id": "8qH516Dml9Dv"
      },
      "execution_count": null,
      "outputs": []
    },
    {
      "cell_type": "code",
      "source": [
        "pred_results.predictions.show()"
      ],
      "metadata": {
        "colab": {
          "base_uri": "https://localhost:8080/"
        },
        "id": "GDF5t3UDmDNu",
        "outputId": "42a47df9-e998-4278-d19b-3e30c1ce89de"
      },
      "execution_count": null,
      "outputs": [
        {
          "output_type": "stream",
          "name": "stdout",
          "text": [
            "+-------------------+------+------------------+\n",
            "|Independent Feature|Salary|        prediction|\n",
            "+-------------------+------+------------------+\n",
            "|         [24.0,3.0]| 20000|18409.158050221544|\n",
            "|        [31.0,10.0]| 30000| 27570.16248153613|\n",
            "+-------------------+------+------------------+\n",
            "\n"
          ]
        }
      ]
    },
    {
      "cell_type": "code",
      "source": [
        "pred_results.meanAbsoluteError, pred_results.meanSquaredError"
      ],
      "metadata": {
        "colab": {
          "base_uri": "https://localhost:8080/"
        },
        "id": "YLOhxauemIC2",
        "outputId": "417ba3e7-7150-419a-c0d6-7b5de8a589ea"
      },
      "execution_count": null,
      "outputs": [
        {
          "output_type": "execute_result",
          "data": {
            "text/plain": [
              "(2010.339734121164, 4217444.237654793)"
            ]
          },
          "metadata": {},
          "execution_count": 79
        }
      ]
    },
    {
      "cell_type": "code",
      "source": [],
      "metadata": {
        "id": "zSfud3qemhbM"
      },
      "execution_count": null,
      "outputs": []
    }
  ]
}